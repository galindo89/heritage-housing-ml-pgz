{
  "cells": [
    {
      "cell_type": "markdown",
      "metadata": {
        "id": "0aStgWSO0E0E"
      },
      "source": [
        "# **Data Collection Heritage-Housing-Project**"
      ]
    },
    {
      "cell_type": "markdown",
      "metadata": {
        "id": "1eLEkw5O0ECa"
      },
      "source": [
        "## Objectives\n",
        "\n",
        "* Fetch the Heritage Housing dataset from the corresponding Kaggle repository  \n",
        "* Store the dataset in a designated local directory for further processing  \n",
        "* Inspect the data and save it under outputs/datasets/collection\n",
        "* Provide a structured step-by-step guide to load the dataset for further use  \n",
        "\n",
        "## Inputs\n",
        "\n",
        "* Kaggle API credentials provided via a `kaggle.json` file  \n",
        "* Kaggle repository URL: https://www.kaggle.com/codeinstitute/housing-prices-data\n",
        "\n",
        "## Outputs\n",
        "\n",
        "* Raw dataset files downloaded from Kaggle  \n",
        "* Files saved to the appropriate folder structure\n",
        "\n",
        "## Additional Comments\n",
        "\n",
        "* Ensure that the Kaggle API token is correctly set up before running the notebook  \n",
        "* Use version control to track changes to data download scripts  "
      ]
    },
    {
      "cell_type": "markdown",
      "metadata": {
        "id": "9uWZXH9LwoQg"
      },
      "source": [
        "---"
      ]
    },
    {
      "cell_type": "markdown",
      "metadata": {
        "id": "cqP-UeN-z3i2"
      },
      "source": [
        "# Change working directory"
      ]
    },
    {
      "cell_type": "markdown",
      "metadata": {},
      "source": [
        "* We are assuming you will store the notebooks in a subfolder, therefore when running the notebook in the editor, you will need to change the working directory"
      ]
    },
    {
      "cell_type": "markdown",
      "metadata": {
        "id": "aOGIGS-uz3i2"
      },
      "source": [
        "We need to change the working directory from its current folder to its parent folder\n",
        "* We access the current directory with os.getcwd()"
      ]
    },
    {
      "cell_type": "code",
      "execution_count": 1,
      "metadata": {
        "id": "wZfF_j-Bz3i4",
        "outputId": "66943449-1436-4c3d-85c7-b85f9f78349b"
      },
      "outputs": [
        {
          "data": {
            "text/plain": [
              "'c:\\\\Users\\\\PabloGalindo\\\\Coding-Institute\\\\PMS5\\\\heritage-housing-ml-pgz\\\\jupyter_notebooks'"
            ]
          },
          "execution_count": 1,
          "metadata": {},
          "output_type": "execute_result"
        }
      ],
      "source": [
        "import os\n",
        "current_dir = os.getcwd()\n",
        "current_dir"
      ]
    },
    {
      "cell_type": "markdown",
      "metadata": {
        "id": "9MWW8E7lz3i7"
      },
      "source": [
        "We want to make the parent of the current directory the new current directory\n",
        "* os.path.dirname() gets the parent directory\n",
        "* os.chir() defines the new current directory"
      ]
    },
    {
      "cell_type": "code",
      "execution_count": 2,
      "metadata": {
        "id": "TwHsQRWjz3i9",
        "outputId": "86849db3-cd2f-4cc5-ebb8-2d0caafa1a2c"
      },
      "outputs": [
        {
          "name": "stdout",
          "output_type": "stream",
          "text": [
            "You set a new current directory\n"
          ]
        }
      ],
      "source": [
        "os.chdir(os.path.dirname(current_dir))\n",
        "print(\"You set a new current directory\")"
      ]
    },
    {
      "cell_type": "markdown",
      "metadata": {
        "id": "M_xPk_Ijz3i-"
      },
      "source": [
        "Confirm the new current directory"
      ]
    },
    {
      "cell_type": "code",
      "execution_count": 3,
      "metadata": {
        "id": "vz3S-_kjz3jA",
        "outputId": "00b79ae4-75d0-4a96-d193-ac9ef9847ea2"
      },
      "outputs": [
        {
          "data": {
            "text/plain": [
              "'c:\\\\Users\\\\PabloGalindo\\\\Coding-Institute\\\\PMS5\\\\heritage-housing-ml-pgz'"
            ]
          },
          "execution_count": 3,
          "metadata": {},
          "output_type": "execute_result"
        }
      ],
      "source": [
        "current_dir = os.getcwd()\n",
        "current_dir"
      ]
    },
    {
      "cell_type": "markdown",
      "metadata": {
        "id": "-mavJ8DibrcQ"
      },
      "source": [
        "# Fetch Data from Kaggle"
      ]
    },
    {
      "cell_type": "markdown",
      "metadata": {},
      "source": [
        "## Intro\n",
        "\n",
        "To retrieve the Heritage Housing dataset from Kaggle, follow the structured steps below. This ensures a reproducible and reliable data acquisition process.\n",
        "\n",
        "Before proceeding, make sure the `kaggle.json` file containing your API credentials is available in the **parent directory** of this project. If the file is not present, it should be downloaded manually first from your Kaggle.\n",
        "\n",
        "### Step-by-Step Instructions\n",
        "\n",
        "1. **Install Required Packages**  \n",
        "   Ensure the `kaggle` Python package is installed in your environment. This is required to authenticate and download data via the Kaggle API.\n",
        "\n",
        "2. **Load `kaggle.json`**  \n",
        "   Load the `kaggle.json` file and set it as an environment variable dynamically to authorize the Kaggle API for dataset download. Ensure the file is located in the working directory before proceeding.\n",
        "\n",
        "\n",
        "3. **Download the Dataset**  \n",
        "   Use the Kaggle API to fetch the dataset from the following URL:  \n",
        "   [https://www.kaggle.com/codeinstitute/housing-prices-data](https://www.kaggle.com/codeinstitute/housing-prices-data)  \n",
        "   The data should be extracted and saved in a predefined location, such as `inputs/datasets/raw`.\n",
        "\n",
        "\n",
        "\n"
      ]
    },
    {
      "cell_type": "markdown",
      "metadata": {},
      "source": [
        "Step 1 – Install Required Packages"
      ]
    },
    {
      "cell_type": "code",
      "execution_count": 55,
      "metadata": {},
      "outputs": [
        {
          "name": "stdout",
          "output_type": "stream",
          "text": [
            "Requirement already satisfied: kaggle==1.5.12 in c:\\users\\pablogalindo\\coding-institute\\pms5\\heritage-housing-ml-pgz\\venv\\lib\\site-packages (1.5.12)\n",
            "Requirement already satisfied: six>=1.10 in c:\\users\\pablogalindo\\coding-institute\\pms5\\heritage-housing-ml-pgz\\venv\\lib\\site-packages (from kaggle==1.5.12) (1.17.0)\n",
            "Requirement already satisfied: certifi in c:\\users\\pablogalindo\\coding-institute\\pms5\\heritage-housing-ml-pgz\\venv\\lib\\site-packages (from kaggle==1.5.12) (2025.1.31)\n",
            "Requirement already satisfied: python-dateutil in c:\\users\\pablogalindo\\coding-institute\\pms5\\heritage-housing-ml-pgz\\venv\\lib\\site-packages (from kaggle==1.5.12) (2.9.0.post0)\n",
            "Requirement already satisfied: requests in c:\\users\\pablogalindo\\coding-institute\\pms5\\heritage-housing-ml-pgz\\venv\\lib\\site-packages (from kaggle==1.5.12) (2.32.3)\n",
            "Requirement already satisfied: tqdm in c:\\users\\pablogalindo\\coding-institute\\pms5\\heritage-housing-ml-pgz\\venv\\lib\\site-packages (from kaggle==1.5.12) (4.67.1)\n",
            "Requirement already satisfied: python-slugify in c:\\users\\pablogalindo\\coding-institute\\pms5\\heritage-housing-ml-pgz\\venv\\lib\\site-packages (from kaggle==1.5.12) (8.0.4)\n",
            "Requirement already satisfied: urllib3 in c:\\users\\pablogalindo\\coding-institute\\pms5\\heritage-housing-ml-pgz\\venv\\lib\\site-packages (from kaggle==1.5.12) (2.3.0)\n",
            "Requirement already satisfied: text-unidecode>=1.3 in c:\\users\\pablogalindo\\coding-institute\\pms5\\heritage-housing-ml-pgz\\venv\\lib\\site-packages (from python-slugify->kaggle==1.5.12) (1.3)\n",
            "Requirement already satisfied: charset-normalizer<4,>=2 in c:\\users\\pablogalindo\\coding-institute\\pms5\\heritage-housing-ml-pgz\\venv\\lib\\site-packages (from requests->kaggle==1.5.12) (3.4.1)\n",
            "Requirement already satisfied: idna<4,>=2.5 in c:\\users\\pablogalindo\\coding-institute\\pms5\\heritage-housing-ml-pgz\\venv\\lib\\site-packages (from requests->kaggle==1.5.12) (3.10)\n",
            "Requirement already satisfied: colorama in c:\\users\\pablogalindo\\coding-institute\\pms5\\heritage-housing-ml-pgz\\venv\\lib\\site-packages (from tqdm->kaggle==1.5.12) (0.4.6)\n",
            "Note: you may need to restart the kernel to use updated packages.\n"
          ]
        },
        {
          "name": "stderr",
          "output_type": "stream",
          "text": [
            "\n",
            "[notice] A new release of pip is available: 24.0 -> 25.0.1\n",
            "[notice] To update, run: python.exe -m pip install --upgrade pip\n"
          ]
        }
      ],
      "source": [
        "%pip install kaggle==1.5.12"
      ]
    },
    {
      "cell_type": "markdown",
      "metadata": {},
      "source": [
        "Step 2 – Load kaggle.json"
      ]
    },
    {
      "cell_type": "code",
      "execution_count": 4,
      "metadata": {},
      "outputs": [
        {
          "name": "stdout",
          "output_type": "stream",
          "text": [
            "kaggle.json found and environment variable set.\n"
          ]
        }
      ],
      "source": [
        "import os\n",
        "\n",
        "kaggle_json_path = os.path.abspath(\"kaggle.json\")\n",
        "\n",
        "if os.path.exists(kaggle_json_path):\n",
        "    os.environ['KAGGLE_CONFIG_DIR'] = os.getcwd()\n",
        "    print(\"kaggle.json found and environment variable set.\")\n",
        "else:\n",
        "    print(\"kaggle.json not found. Please download it from your Kaggle account.\")"
      ]
    },
    {
      "cell_type": "markdown",
      "metadata": {},
      "source": [
        "Step 3 - Download the Dataset"
      ]
    },
    {
      "cell_type": "code",
      "execution_count": 5,
      "metadata": {},
      "outputs": [
        {
          "name": "stdout",
          "output_type": "stream",
          "text": [
            "Downloading housing-prices-data.zip to inputs\\datasets\\raw\n",
            "\n"
          ]
        },
        {
          "name": "stderr",
          "output_type": "stream",
          "text": [
            "\n",
            "  0%|          | 0.00/49.6k [00:00<?, ?B/s]\n",
            "100%|██████████| 49.6k/49.6k [00:00<00:00, 1.35MB/s]\n"
          ]
        }
      ],
      "source": [
        "data_dir = os.path.join(\"inputs\", \"datasets\",\"raw\")\n",
        "os.makedirs(data_dir, exist_ok=True)\n",
        "!kaggle datasets download -d codeinstitute/housing-prices-data -p {data_dir} --unzip"
      ]
    },
    {
      "cell_type": "markdown",
      "metadata": {
        "id": "ZY3l0-AxO93d"
      },
      "source": [
        "---"
      ]
    },
    {
      "cell_type": "markdown",
      "metadata": {
        "id": "uFQo3ycuO-v6"
      },
      "source": [
        "# Load and Inspect Kaggle data"
      ]
    },
    {
      "cell_type": "markdown",
      "metadata": {},
      "source": [
        "## Intro\n",
        "\n",
        "In this section, we will load the dataset downloaded from Kaggle into a Pandas DataFrame and perform an initial inspection. This includes previewing the structure, checking the number of records and columns, and verifying the data types. After verifying that the data has been successfully loaded, we will save a working copy to the `outputs/datasets/collection` directory for future use in the data preparation and modeling stages.\n",
        "\n",
        "### Step-by-Step Guide\n",
        "\n",
        "0. **List retrieved files**  \n",
        "   Print the filenames and extensions of the dataset files downloaded from Kaggle to confirm contents.\n",
        "\n",
        "1. **Load the dataset**  \n",
        "   Read the CSV file into a Pandas DataFrame from the download location.\n",
        "\n",
        "2. **Preview the data**  \n",
        "   Use `.head()` to view the first few rows and confirm the format.\n",
        "\n",
        "3. **Check basic metadata**  \n",
        "   Use `.shape` to get the number of rows and columns, `.info()` to understand data types and null entries, and `.describe()` to summarize numeric values.\n",
        "\n",
        "4. **Check for missing values**  \n",
        "   Identify any columns with null entries that may need cleaning later.\n",
        "\n",
        "5. **Save a working copy**  \n",
        "   Save the inspected DataFrame into the `outputs/datasets/collection/` directory for downstream use.\n"
      ]
    },
    {
      "cell_type": "markdown",
      "metadata": {},
      "source": [
        "Step 0 – List retrieved files"
      ]
    },
    {
      "cell_type": "code",
      "execution_count": 6,
      "metadata": {},
      "outputs": [
        {
          "name": "stdout",
          "output_type": "stream",
          "text": [
            "Retrieved files from data_dir (including subfolders):\n",
            "- house-metadata.txt (Extension: .txt)\n",
            "- house-price-20211124T154130Z-001\\house-price\\house_prices_records.csv (Extension: .csv)\n",
            "- house-price-20211124T154130Z-001\\house-price\\inherited_houses.csv (Extension: .csv)\n"
          ]
        }
      ],
      "source": [
        "import os\n",
        "\n",
        "collected_files = []\n",
        "\n",
        "for root, _, files in os.walk(data_dir):\n",
        "    for file in files:\n",
        "        full_path = os.path.join(root, file)\n",
        "        rel_path = os.path.relpath(full_path, data_dir)\n",
        "        ext = os.path.splitext(file)[1]\n",
        "        collected_files.append((rel_path, ext))\n",
        "\n",
        "if collected_files:\n",
        "    print(\"Retrieved files from data_dir (including subfolders):\")\n",
        "    for rel_path, ext in collected_files:\n",
        "        print(f\"- {rel_path} (Extension: {ext})\")\n",
        "else:\n",
        "    print(\"No files found in data_dir.\")"
      ]
    },
    {
      "cell_type": "markdown",
      "metadata": {},
      "source": [
        "The dataset is composed of three files:\n",
        "\n",
        "1. **`house-metadata.txt`**  \n",
        "   A simple text file describing the column headers in the dataset, including explanations of each feature and the possible values they can take.\n",
        "\n",
        "2. **`house_prices_records.csv`**  \n",
        "   The main dataset that will be used to train and evaluate the predictive model.\n",
        "\n",
        "3. **`inherited_houses.csv`**  \n",
        "   A sample dataset containing the attributes of four houses inherited by the client. This dataset will be used to make price predictions.\n",
        "\n",
        "The following steps will focus on analyzing the two CSV files.\n"
      ]
    },
    {
      "cell_type": "markdown",
      "metadata": {},
      "source": [
        "Step 1 – Load Datasets"
      ]
    },
    {
      "cell_type": "code",
      "execution_count": 7,
      "metadata": {},
      "outputs": [
        {
          "name": "stdout",
          "output_type": "stream",
          "text": [
            "Datasets loaded successfully.\n"
          ]
        }
      ],
      "source": [
        "import pandas as pd\n",
        "import os\n",
        "\n",
        "# Define dataset paths\n",
        "records_path = os.path.join(\n",
        "    data_dir, 'house-price-20211124T154130Z-001', 'house-price', 'house_prices_records.csv'\n",
        ")\n",
        "inherited_path = os.path.join(\n",
        "    data_dir, 'house-price-20211124T154130Z-001', 'house-price', 'inherited_houses.csv'\n",
        ")\n",
        "\n",
        "# Load the datasets\n",
        "try:\n",
        "    df_records = pd.read_csv(records_path)\n",
        "    df_inherited = pd.read_csv(inherited_path)\n",
        "    print(\"Datasets loaded successfully.\")\n",
        "except FileNotFoundError as e:\n",
        "    print(\"File not found:\", e)"
      ]
    },
    {
      "cell_type": "markdown",
      "metadata": {},
      "source": [
        "Step 2 - Preview the data"
      ]
    },
    {
      "cell_type": "code",
      "execution_count": 8,
      "metadata": {},
      "outputs": [
        {
          "name": "stdout",
          "output_type": "stream",
          "text": [
            "\n",
            "First rows of house_prices_records.csv:\n"
          ]
        },
        {
          "data": {
            "text/html": [
              "<div>\n",
              "<style scoped>\n",
              "    .dataframe tbody tr th:only-of-type {\n",
              "        vertical-align: middle;\n",
              "    }\n",
              "\n",
              "    .dataframe tbody tr th {\n",
              "        vertical-align: top;\n",
              "    }\n",
              "\n",
              "    .dataframe thead th {\n",
              "        text-align: right;\n",
              "    }\n",
              "</style>\n",
              "<table border=\"1\" class=\"dataframe\">\n",
              "  <thead>\n",
              "    <tr style=\"text-align: right;\">\n",
              "      <th></th>\n",
              "      <th>1stFlrSF</th>\n",
              "      <th>2ndFlrSF</th>\n",
              "      <th>BedroomAbvGr</th>\n",
              "      <th>BsmtExposure</th>\n",
              "      <th>BsmtFinSF1</th>\n",
              "      <th>BsmtFinType1</th>\n",
              "      <th>BsmtUnfSF</th>\n",
              "      <th>EnclosedPorch</th>\n",
              "      <th>GarageArea</th>\n",
              "      <th>GarageFinish</th>\n",
              "      <th>...</th>\n",
              "      <th>LotFrontage</th>\n",
              "      <th>MasVnrArea</th>\n",
              "      <th>OpenPorchSF</th>\n",
              "      <th>OverallCond</th>\n",
              "      <th>OverallQual</th>\n",
              "      <th>TotalBsmtSF</th>\n",
              "      <th>WoodDeckSF</th>\n",
              "      <th>YearBuilt</th>\n",
              "      <th>YearRemodAdd</th>\n",
              "      <th>SalePrice</th>\n",
              "    </tr>\n",
              "  </thead>\n",
              "  <tbody>\n",
              "    <tr>\n",
              "      <th>0</th>\n",
              "      <td>856</td>\n",
              "      <td>854.0</td>\n",
              "      <td>3.0</td>\n",
              "      <td>No</td>\n",
              "      <td>706</td>\n",
              "      <td>GLQ</td>\n",
              "      <td>150</td>\n",
              "      <td>0.0</td>\n",
              "      <td>548</td>\n",
              "      <td>RFn</td>\n",
              "      <td>...</td>\n",
              "      <td>65.0</td>\n",
              "      <td>196.0</td>\n",
              "      <td>61</td>\n",
              "      <td>5</td>\n",
              "      <td>7</td>\n",
              "      <td>856</td>\n",
              "      <td>0.0</td>\n",
              "      <td>2003</td>\n",
              "      <td>2003</td>\n",
              "      <td>208500</td>\n",
              "    </tr>\n",
              "    <tr>\n",
              "      <th>1</th>\n",
              "      <td>1262</td>\n",
              "      <td>0.0</td>\n",
              "      <td>3.0</td>\n",
              "      <td>Gd</td>\n",
              "      <td>978</td>\n",
              "      <td>ALQ</td>\n",
              "      <td>284</td>\n",
              "      <td>NaN</td>\n",
              "      <td>460</td>\n",
              "      <td>RFn</td>\n",
              "      <td>...</td>\n",
              "      <td>80.0</td>\n",
              "      <td>0.0</td>\n",
              "      <td>0</td>\n",
              "      <td>8</td>\n",
              "      <td>6</td>\n",
              "      <td>1262</td>\n",
              "      <td>NaN</td>\n",
              "      <td>1976</td>\n",
              "      <td>1976</td>\n",
              "      <td>181500</td>\n",
              "    </tr>\n",
              "    <tr>\n",
              "      <th>2</th>\n",
              "      <td>920</td>\n",
              "      <td>866.0</td>\n",
              "      <td>3.0</td>\n",
              "      <td>Mn</td>\n",
              "      <td>486</td>\n",
              "      <td>GLQ</td>\n",
              "      <td>434</td>\n",
              "      <td>0.0</td>\n",
              "      <td>608</td>\n",
              "      <td>RFn</td>\n",
              "      <td>...</td>\n",
              "      <td>68.0</td>\n",
              "      <td>162.0</td>\n",
              "      <td>42</td>\n",
              "      <td>5</td>\n",
              "      <td>7</td>\n",
              "      <td>920</td>\n",
              "      <td>NaN</td>\n",
              "      <td>2001</td>\n",
              "      <td>2002</td>\n",
              "      <td>223500</td>\n",
              "    </tr>\n",
              "    <tr>\n",
              "      <th>3</th>\n",
              "      <td>961</td>\n",
              "      <td>NaN</td>\n",
              "      <td>NaN</td>\n",
              "      <td>No</td>\n",
              "      <td>216</td>\n",
              "      <td>ALQ</td>\n",
              "      <td>540</td>\n",
              "      <td>NaN</td>\n",
              "      <td>642</td>\n",
              "      <td>Unf</td>\n",
              "      <td>...</td>\n",
              "      <td>60.0</td>\n",
              "      <td>0.0</td>\n",
              "      <td>35</td>\n",
              "      <td>5</td>\n",
              "      <td>7</td>\n",
              "      <td>756</td>\n",
              "      <td>NaN</td>\n",
              "      <td>1915</td>\n",
              "      <td>1970</td>\n",
              "      <td>140000</td>\n",
              "    </tr>\n",
              "    <tr>\n",
              "      <th>4</th>\n",
              "      <td>1145</td>\n",
              "      <td>NaN</td>\n",
              "      <td>4.0</td>\n",
              "      <td>Av</td>\n",
              "      <td>655</td>\n",
              "      <td>GLQ</td>\n",
              "      <td>490</td>\n",
              "      <td>0.0</td>\n",
              "      <td>836</td>\n",
              "      <td>RFn</td>\n",
              "      <td>...</td>\n",
              "      <td>84.0</td>\n",
              "      <td>350.0</td>\n",
              "      <td>84</td>\n",
              "      <td>5</td>\n",
              "      <td>8</td>\n",
              "      <td>1145</td>\n",
              "      <td>NaN</td>\n",
              "      <td>2000</td>\n",
              "      <td>2000</td>\n",
              "      <td>250000</td>\n",
              "    </tr>\n",
              "  </tbody>\n",
              "</table>\n",
              "<p>5 rows × 24 columns</p>\n",
              "</div>"
            ],
            "text/plain": [
              "   1stFlrSF  2ndFlrSF  BedroomAbvGr BsmtExposure  BsmtFinSF1 BsmtFinType1  \\\n",
              "0       856     854.0           3.0           No         706          GLQ   \n",
              "1      1262       0.0           3.0           Gd         978          ALQ   \n",
              "2       920     866.0           3.0           Mn         486          GLQ   \n",
              "3       961       NaN           NaN           No         216          ALQ   \n",
              "4      1145       NaN           4.0           Av         655          GLQ   \n",
              "\n",
              "   BsmtUnfSF  EnclosedPorch  GarageArea GarageFinish  ...  LotFrontage  \\\n",
              "0        150            0.0         548          RFn  ...         65.0   \n",
              "1        284            NaN         460          RFn  ...         80.0   \n",
              "2        434            0.0         608          RFn  ...         68.0   \n",
              "3        540            NaN         642          Unf  ...         60.0   \n",
              "4        490            0.0         836          RFn  ...         84.0   \n",
              "\n",
              "   MasVnrArea OpenPorchSF  OverallCond  OverallQual  TotalBsmtSF  WoodDeckSF  \\\n",
              "0       196.0          61            5            7          856         0.0   \n",
              "1         0.0           0            8            6         1262         NaN   \n",
              "2       162.0          42            5            7          920         NaN   \n",
              "3         0.0          35            5            7          756         NaN   \n",
              "4       350.0          84            5            8         1145         NaN   \n",
              "\n",
              "   YearBuilt  YearRemodAdd  SalePrice  \n",
              "0       2003          2003     208500  \n",
              "1       1976          1976     181500  \n",
              "2       2001          2002     223500  \n",
              "3       1915          1970     140000  \n",
              "4       2000          2000     250000  \n",
              "\n",
              "[5 rows x 24 columns]"
            ]
          },
          "metadata": {},
          "output_type": "display_data"
        },
        {
          "name": "stdout",
          "output_type": "stream",
          "text": [
            "\n",
            "First rows of inherited_houses.csv:\n"
          ]
        },
        {
          "data": {
            "text/html": [
              "<div>\n",
              "<style scoped>\n",
              "    .dataframe tbody tr th:only-of-type {\n",
              "        vertical-align: middle;\n",
              "    }\n",
              "\n",
              "    .dataframe tbody tr th {\n",
              "        vertical-align: top;\n",
              "    }\n",
              "\n",
              "    .dataframe thead th {\n",
              "        text-align: right;\n",
              "    }\n",
              "</style>\n",
              "<table border=\"1\" class=\"dataframe\">\n",
              "  <thead>\n",
              "    <tr style=\"text-align: right;\">\n",
              "      <th></th>\n",
              "      <th>1stFlrSF</th>\n",
              "      <th>2ndFlrSF</th>\n",
              "      <th>BedroomAbvGr</th>\n",
              "      <th>BsmtExposure</th>\n",
              "      <th>BsmtFinSF1</th>\n",
              "      <th>BsmtFinType1</th>\n",
              "      <th>BsmtUnfSF</th>\n",
              "      <th>EnclosedPorch</th>\n",
              "      <th>GarageArea</th>\n",
              "      <th>GarageFinish</th>\n",
              "      <th>...</th>\n",
              "      <th>LotArea</th>\n",
              "      <th>LotFrontage</th>\n",
              "      <th>MasVnrArea</th>\n",
              "      <th>OpenPorchSF</th>\n",
              "      <th>OverallCond</th>\n",
              "      <th>OverallQual</th>\n",
              "      <th>TotalBsmtSF</th>\n",
              "      <th>WoodDeckSF</th>\n",
              "      <th>YearBuilt</th>\n",
              "      <th>YearRemodAdd</th>\n",
              "    </tr>\n",
              "  </thead>\n",
              "  <tbody>\n",
              "    <tr>\n",
              "      <th>0</th>\n",
              "      <td>896</td>\n",
              "      <td>0</td>\n",
              "      <td>2</td>\n",
              "      <td>No</td>\n",
              "      <td>468.0</td>\n",
              "      <td>Rec</td>\n",
              "      <td>270.0</td>\n",
              "      <td>0</td>\n",
              "      <td>730.0</td>\n",
              "      <td>Unf</td>\n",
              "      <td>...</td>\n",
              "      <td>11622</td>\n",
              "      <td>80.0</td>\n",
              "      <td>0.0</td>\n",
              "      <td>0</td>\n",
              "      <td>6</td>\n",
              "      <td>5</td>\n",
              "      <td>882.0</td>\n",
              "      <td>140</td>\n",
              "      <td>1961</td>\n",
              "      <td>1961</td>\n",
              "    </tr>\n",
              "    <tr>\n",
              "      <th>1</th>\n",
              "      <td>1329</td>\n",
              "      <td>0</td>\n",
              "      <td>3</td>\n",
              "      <td>No</td>\n",
              "      <td>923.0</td>\n",
              "      <td>ALQ</td>\n",
              "      <td>406.0</td>\n",
              "      <td>0</td>\n",
              "      <td>312.0</td>\n",
              "      <td>Unf</td>\n",
              "      <td>...</td>\n",
              "      <td>14267</td>\n",
              "      <td>81.0</td>\n",
              "      <td>108.0</td>\n",
              "      <td>36</td>\n",
              "      <td>6</td>\n",
              "      <td>6</td>\n",
              "      <td>1329.0</td>\n",
              "      <td>393</td>\n",
              "      <td>1958</td>\n",
              "      <td>1958</td>\n",
              "    </tr>\n",
              "    <tr>\n",
              "      <th>2</th>\n",
              "      <td>928</td>\n",
              "      <td>701</td>\n",
              "      <td>3</td>\n",
              "      <td>No</td>\n",
              "      <td>791.0</td>\n",
              "      <td>GLQ</td>\n",
              "      <td>137.0</td>\n",
              "      <td>0</td>\n",
              "      <td>482.0</td>\n",
              "      <td>Fin</td>\n",
              "      <td>...</td>\n",
              "      <td>13830</td>\n",
              "      <td>74.0</td>\n",
              "      <td>0.0</td>\n",
              "      <td>34</td>\n",
              "      <td>5</td>\n",
              "      <td>5</td>\n",
              "      <td>928.0</td>\n",
              "      <td>212</td>\n",
              "      <td>1997</td>\n",
              "      <td>1998</td>\n",
              "    </tr>\n",
              "    <tr>\n",
              "      <th>3</th>\n",
              "      <td>926</td>\n",
              "      <td>678</td>\n",
              "      <td>3</td>\n",
              "      <td>No</td>\n",
              "      <td>602.0</td>\n",
              "      <td>GLQ</td>\n",
              "      <td>324.0</td>\n",
              "      <td>0</td>\n",
              "      <td>470.0</td>\n",
              "      <td>Fin</td>\n",
              "      <td>...</td>\n",
              "      <td>9978</td>\n",
              "      <td>78.0</td>\n",
              "      <td>20.0</td>\n",
              "      <td>36</td>\n",
              "      <td>6</td>\n",
              "      <td>6</td>\n",
              "      <td>926.0</td>\n",
              "      <td>360</td>\n",
              "      <td>1998</td>\n",
              "      <td>1998</td>\n",
              "    </tr>\n",
              "  </tbody>\n",
              "</table>\n",
              "<p>4 rows × 23 columns</p>\n",
              "</div>"
            ],
            "text/plain": [
              "   1stFlrSF  2ndFlrSF  BedroomAbvGr BsmtExposure  BsmtFinSF1 BsmtFinType1  \\\n",
              "0       896         0             2           No       468.0          Rec   \n",
              "1      1329         0             3           No       923.0          ALQ   \n",
              "2       928       701             3           No       791.0          GLQ   \n",
              "3       926       678             3           No       602.0          GLQ   \n",
              "\n",
              "   BsmtUnfSF  EnclosedPorch  GarageArea GarageFinish  ...  LotArea  \\\n",
              "0      270.0              0       730.0          Unf  ...    11622   \n",
              "1      406.0              0       312.0          Unf  ...    14267   \n",
              "2      137.0              0       482.0          Fin  ...    13830   \n",
              "3      324.0              0       470.0          Fin  ...     9978   \n",
              "\n",
              "   LotFrontage MasVnrArea  OpenPorchSF  OverallCond  OverallQual  TotalBsmtSF  \\\n",
              "0         80.0        0.0            0            6            5        882.0   \n",
              "1         81.0      108.0           36            6            6       1329.0   \n",
              "2         74.0        0.0           34            5            5        928.0   \n",
              "3         78.0       20.0           36            6            6        926.0   \n",
              "\n",
              "   WoodDeckSF  YearBuilt  YearRemodAdd  \n",
              "0         140       1961          1961  \n",
              "1         393       1958          1958  \n",
              "2         212       1997          1998  \n",
              "3         360       1998          1998  \n",
              "\n",
              "[4 rows x 23 columns]"
            ]
          },
          "metadata": {},
          "output_type": "display_data"
        }
      ],
      "source": [
        "print(\"\\nFirst rows of house_prices_records.csv:\")\n",
        "display(df_records.head())\n",
        "\n",
        "print(\"\\nFirst rows of inherited_houses.csv:\")\n",
        "display(df_inherited.head())"
      ]
    },
    {
      "cell_type": "markdown",
      "metadata": {},
      "source": [
        "Step 3 - Check basic metadata"
      ]
    },
    {
      "cell_type": "code",
      "execution_count": 9,
      "metadata": {},
      "outputs": [
        {
          "name": "stdout",
          "output_type": "stream",
          "text": [
            "Shape of house_prices_records.csv: (1460, 24)\n",
            "Shape of inherited_houses.csv: (4, 23)\n",
            "\n",
            "Info for house_prices_records.csv:\n",
            "<class 'pandas.core.frame.DataFrame'>\n",
            "RangeIndex: 1460 entries, 0 to 1459\n",
            "Data columns (total 24 columns):\n",
            " #   Column         Non-Null Count  Dtype  \n",
            "---  ------         --------------  -----  \n",
            " 0   1stFlrSF       1460 non-null   int64  \n",
            " 1   2ndFlrSF       1374 non-null   float64\n",
            " 2   BedroomAbvGr   1361 non-null   float64\n",
            " 3   BsmtExposure   1422 non-null   object \n",
            " 4   BsmtFinSF1     1460 non-null   int64  \n",
            " 5   BsmtFinType1   1315 non-null   object \n",
            " 6   BsmtUnfSF      1460 non-null   int64  \n",
            " 7   EnclosedPorch  136 non-null    float64\n",
            " 8   GarageArea     1460 non-null   int64  \n",
            " 9   GarageFinish   1225 non-null   object \n",
            " 10  GarageYrBlt    1379 non-null   float64\n",
            " 11  GrLivArea      1460 non-null   int64  \n",
            " 12  KitchenQual    1460 non-null   object \n",
            " 13  LotArea        1460 non-null   int64  \n",
            " 14  LotFrontage    1201 non-null   float64\n",
            " 15  MasVnrArea     1452 non-null   float64\n",
            " 16  OpenPorchSF    1460 non-null   int64  \n",
            " 17  OverallCond    1460 non-null   int64  \n",
            " 18  OverallQual    1460 non-null   int64  \n",
            " 19  TotalBsmtSF    1460 non-null   int64  \n",
            " 20  WoodDeckSF     155 non-null    float64\n",
            " 21  YearBuilt      1460 non-null   int64  \n",
            " 22  YearRemodAdd   1460 non-null   int64  \n",
            " 23  SalePrice      1460 non-null   int64  \n",
            "dtypes: float64(7), int64(13), object(4)\n",
            "memory usage: 273.9+ KB\n",
            "\n",
            "Info for inherited_houses.csv:\n",
            "<class 'pandas.core.frame.DataFrame'>\n",
            "RangeIndex: 4 entries, 0 to 3\n",
            "Data columns (total 23 columns):\n",
            " #   Column         Non-Null Count  Dtype  \n",
            "---  ------         --------------  -----  \n",
            " 0   1stFlrSF       4 non-null      int64  \n",
            " 1   2ndFlrSF       4 non-null      int64  \n",
            " 2   BedroomAbvGr   4 non-null      int64  \n",
            " 3   BsmtExposure   4 non-null      object \n",
            " 4   BsmtFinSF1     4 non-null      float64\n",
            " 5   BsmtFinType1   4 non-null      object \n",
            " 6   BsmtUnfSF      4 non-null      float64\n",
            " 7   EnclosedPorch  4 non-null      int64  \n",
            " 8   GarageArea     4 non-null      float64\n",
            " 9   GarageFinish   4 non-null      object \n",
            " 10  GarageYrBlt    4 non-null      float64\n",
            " 11  GrLivArea      4 non-null      int64  \n",
            " 12  KitchenQual    4 non-null      object \n",
            " 13  LotArea        4 non-null      int64  \n",
            " 14  LotFrontage    4 non-null      float64\n",
            " 15  MasVnrArea     4 non-null      float64\n",
            " 16  OpenPorchSF    4 non-null      int64  \n",
            " 17  OverallCond    4 non-null      int64  \n",
            " 18  OverallQual    4 non-null      int64  \n",
            " 19  TotalBsmtSF    4 non-null      float64\n",
            " 20  WoodDeckSF     4 non-null      int64  \n",
            " 21  YearBuilt      4 non-null      int64  \n",
            " 22  YearRemodAdd   4 non-null      int64  \n",
            "dtypes: float64(7), int64(12), object(4)\n",
            "memory usage: 868.0+ bytes\n",
            "\n",
            "Statistical summary of house_prices_records.csv:\n"
          ]
        },
        {
          "data": {
            "text/html": [
              "<div>\n",
              "<style scoped>\n",
              "    .dataframe tbody tr th:only-of-type {\n",
              "        vertical-align: middle;\n",
              "    }\n",
              "\n",
              "    .dataframe tbody tr th {\n",
              "        vertical-align: top;\n",
              "    }\n",
              "\n",
              "    .dataframe thead th {\n",
              "        text-align: right;\n",
              "    }\n",
              "</style>\n",
              "<table border=\"1\" class=\"dataframe\">\n",
              "  <thead>\n",
              "    <tr style=\"text-align: right;\">\n",
              "      <th></th>\n",
              "      <th>1stFlrSF</th>\n",
              "      <th>2ndFlrSF</th>\n",
              "      <th>BedroomAbvGr</th>\n",
              "      <th>BsmtFinSF1</th>\n",
              "      <th>BsmtUnfSF</th>\n",
              "      <th>EnclosedPorch</th>\n",
              "      <th>GarageArea</th>\n",
              "      <th>GarageYrBlt</th>\n",
              "      <th>GrLivArea</th>\n",
              "      <th>LotArea</th>\n",
              "      <th>LotFrontage</th>\n",
              "      <th>MasVnrArea</th>\n",
              "      <th>OpenPorchSF</th>\n",
              "      <th>OverallCond</th>\n",
              "      <th>OverallQual</th>\n",
              "      <th>TotalBsmtSF</th>\n",
              "      <th>WoodDeckSF</th>\n",
              "      <th>YearBuilt</th>\n",
              "      <th>YearRemodAdd</th>\n",
              "      <th>SalePrice</th>\n",
              "    </tr>\n",
              "  </thead>\n",
              "  <tbody>\n",
              "    <tr>\n",
              "      <th>count</th>\n",
              "      <td>1460.000000</td>\n",
              "      <td>1374.000000</td>\n",
              "      <td>1361.000000</td>\n",
              "      <td>1460.000000</td>\n",
              "      <td>1460.000000</td>\n",
              "      <td>136.000000</td>\n",
              "      <td>1460.000000</td>\n",
              "      <td>1379.000000</td>\n",
              "      <td>1460.000000</td>\n",
              "      <td>1460.000000</td>\n",
              "      <td>1201.000000</td>\n",
              "      <td>1452.000000</td>\n",
              "      <td>1460.000000</td>\n",
              "      <td>1460.000000</td>\n",
              "      <td>1460.000000</td>\n",
              "      <td>1460.000000</td>\n",
              "      <td>155.000000</td>\n",
              "      <td>1460.000000</td>\n",
              "      <td>1460.000000</td>\n",
              "      <td>1460.000000</td>\n",
              "    </tr>\n",
              "    <tr>\n",
              "      <th>mean</th>\n",
              "      <td>1162.626712</td>\n",
              "      <td>348.524017</td>\n",
              "      <td>2.869214</td>\n",
              "      <td>443.639726</td>\n",
              "      <td>567.240411</td>\n",
              "      <td>25.330882</td>\n",
              "      <td>472.980137</td>\n",
              "      <td>1978.506164</td>\n",
              "      <td>1515.463699</td>\n",
              "      <td>10516.828082</td>\n",
              "      <td>70.049958</td>\n",
              "      <td>103.685262</td>\n",
              "      <td>46.660274</td>\n",
              "      <td>5.575342</td>\n",
              "      <td>6.099315</td>\n",
              "      <td>1057.429452</td>\n",
              "      <td>103.741935</td>\n",
              "      <td>1971.267808</td>\n",
              "      <td>1984.865753</td>\n",
              "      <td>180921.195890</td>\n",
              "    </tr>\n",
              "    <tr>\n",
              "      <th>std</th>\n",
              "      <td>386.587738</td>\n",
              "      <td>438.865586</td>\n",
              "      <td>0.820115</td>\n",
              "      <td>456.098091</td>\n",
              "      <td>441.866955</td>\n",
              "      <td>66.684115</td>\n",
              "      <td>213.804841</td>\n",
              "      <td>24.689725</td>\n",
              "      <td>525.480383</td>\n",
              "      <td>9981.264932</td>\n",
              "      <td>24.284752</td>\n",
              "      <td>181.066207</td>\n",
              "      <td>66.256028</td>\n",
              "      <td>1.112799</td>\n",
              "      <td>1.382997</td>\n",
              "      <td>438.705324</td>\n",
              "      <td>135.543152</td>\n",
              "      <td>30.202904</td>\n",
              "      <td>20.645407</td>\n",
              "      <td>79442.502883</td>\n",
              "    </tr>\n",
              "    <tr>\n",
              "      <th>min</th>\n",
              "      <td>334.000000</td>\n",
              "      <td>0.000000</td>\n",
              "      <td>0.000000</td>\n",
              "      <td>0.000000</td>\n",
              "      <td>0.000000</td>\n",
              "      <td>0.000000</td>\n",
              "      <td>0.000000</td>\n",
              "      <td>1900.000000</td>\n",
              "      <td>334.000000</td>\n",
              "      <td>1300.000000</td>\n",
              "      <td>21.000000</td>\n",
              "      <td>0.000000</td>\n",
              "      <td>0.000000</td>\n",
              "      <td>1.000000</td>\n",
              "      <td>1.000000</td>\n",
              "      <td>0.000000</td>\n",
              "      <td>0.000000</td>\n",
              "      <td>1872.000000</td>\n",
              "      <td>1950.000000</td>\n",
              "      <td>34900.000000</td>\n",
              "    </tr>\n",
              "    <tr>\n",
              "      <th>25%</th>\n",
              "      <td>882.000000</td>\n",
              "      <td>0.000000</td>\n",
              "      <td>2.000000</td>\n",
              "      <td>0.000000</td>\n",
              "      <td>223.000000</td>\n",
              "      <td>0.000000</td>\n",
              "      <td>334.500000</td>\n",
              "      <td>1961.000000</td>\n",
              "      <td>1129.500000</td>\n",
              "      <td>7553.500000</td>\n",
              "      <td>59.000000</td>\n",
              "      <td>0.000000</td>\n",
              "      <td>0.000000</td>\n",
              "      <td>5.000000</td>\n",
              "      <td>5.000000</td>\n",
              "      <td>795.750000</td>\n",
              "      <td>0.000000</td>\n",
              "      <td>1954.000000</td>\n",
              "      <td>1967.000000</td>\n",
              "      <td>129975.000000</td>\n",
              "    </tr>\n",
              "    <tr>\n",
              "      <th>50%</th>\n",
              "      <td>1087.000000</td>\n",
              "      <td>0.000000</td>\n",
              "      <td>3.000000</td>\n",
              "      <td>383.500000</td>\n",
              "      <td>477.500000</td>\n",
              "      <td>0.000000</td>\n",
              "      <td>480.000000</td>\n",
              "      <td>1980.000000</td>\n",
              "      <td>1464.000000</td>\n",
              "      <td>9478.500000</td>\n",
              "      <td>69.000000</td>\n",
              "      <td>0.000000</td>\n",
              "      <td>25.000000</td>\n",
              "      <td>5.000000</td>\n",
              "      <td>6.000000</td>\n",
              "      <td>991.500000</td>\n",
              "      <td>0.000000</td>\n",
              "      <td>1973.000000</td>\n",
              "      <td>1994.000000</td>\n",
              "      <td>163000.000000</td>\n",
              "    </tr>\n",
              "    <tr>\n",
              "      <th>75%</th>\n",
              "      <td>1391.250000</td>\n",
              "      <td>728.000000</td>\n",
              "      <td>3.000000</td>\n",
              "      <td>712.250000</td>\n",
              "      <td>808.000000</td>\n",
              "      <td>0.000000</td>\n",
              "      <td>576.000000</td>\n",
              "      <td>2002.000000</td>\n",
              "      <td>1776.750000</td>\n",
              "      <td>11601.500000</td>\n",
              "      <td>80.000000</td>\n",
              "      <td>166.000000</td>\n",
              "      <td>68.000000</td>\n",
              "      <td>6.000000</td>\n",
              "      <td>7.000000</td>\n",
              "      <td>1298.250000</td>\n",
              "      <td>182.500000</td>\n",
              "      <td>2000.000000</td>\n",
              "      <td>2004.000000</td>\n",
              "      <td>214000.000000</td>\n",
              "    </tr>\n",
              "    <tr>\n",
              "      <th>max</th>\n",
              "      <td>4692.000000</td>\n",
              "      <td>2065.000000</td>\n",
              "      <td>8.000000</td>\n",
              "      <td>5644.000000</td>\n",
              "      <td>2336.000000</td>\n",
              "      <td>286.000000</td>\n",
              "      <td>1418.000000</td>\n",
              "      <td>2010.000000</td>\n",
              "      <td>5642.000000</td>\n",
              "      <td>215245.000000</td>\n",
              "      <td>313.000000</td>\n",
              "      <td>1600.000000</td>\n",
              "      <td>547.000000</td>\n",
              "      <td>9.000000</td>\n",
              "      <td>10.000000</td>\n",
              "      <td>6110.000000</td>\n",
              "      <td>736.000000</td>\n",
              "      <td>2010.000000</td>\n",
              "      <td>2010.000000</td>\n",
              "      <td>755000.000000</td>\n",
              "    </tr>\n",
              "  </tbody>\n",
              "</table>\n",
              "</div>"
            ],
            "text/plain": [
              "          1stFlrSF     2ndFlrSF  BedroomAbvGr   BsmtFinSF1    BsmtUnfSF  \\\n",
              "count  1460.000000  1374.000000   1361.000000  1460.000000  1460.000000   \n",
              "mean   1162.626712   348.524017      2.869214   443.639726   567.240411   \n",
              "std     386.587738   438.865586      0.820115   456.098091   441.866955   \n",
              "min     334.000000     0.000000      0.000000     0.000000     0.000000   \n",
              "25%     882.000000     0.000000      2.000000     0.000000   223.000000   \n",
              "50%    1087.000000     0.000000      3.000000   383.500000   477.500000   \n",
              "75%    1391.250000   728.000000      3.000000   712.250000   808.000000   \n",
              "max    4692.000000  2065.000000      8.000000  5644.000000  2336.000000   \n",
              "\n",
              "       EnclosedPorch   GarageArea  GarageYrBlt    GrLivArea        LotArea  \\\n",
              "count     136.000000  1460.000000  1379.000000  1460.000000    1460.000000   \n",
              "mean       25.330882   472.980137  1978.506164  1515.463699   10516.828082   \n",
              "std        66.684115   213.804841    24.689725   525.480383    9981.264932   \n",
              "min         0.000000     0.000000  1900.000000   334.000000    1300.000000   \n",
              "25%         0.000000   334.500000  1961.000000  1129.500000    7553.500000   \n",
              "50%         0.000000   480.000000  1980.000000  1464.000000    9478.500000   \n",
              "75%         0.000000   576.000000  2002.000000  1776.750000   11601.500000   \n",
              "max       286.000000  1418.000000  2010.000000  5642.000000  215245.000000   \n",
              "\n",
              "       LotFrontage   MasVnrArea  OpenPorchSF  OverallCond  OverallQual  \\\n",
              "count  1201.000000  1452.000000  1460.000000  1460.000000  1460.000000   \n",
              "mean     70.049958   103.685262    46.660274     5.575342     6.099315   \n",
              "std      24.284752   181.066207    66.256028     1.112799     1.382997   \n",
              "min      21.000000     0.000000     0.000000     1.000000     1.000000   \n",
              "25%      59.000000     0.000000     0.000000     5.000000     5.000000   \n",
              "50%      69.000000     0.000000    25.000000     5.000000     6.000000   \n",
              "75%      80.000000   166.000000    68.000000     6.000000     7.000000   \n",
              "max     313.000000  1600.000000   547.000000     9.000000    10.000000   \n",
              "\n",
              "       TotalBsmtSF  WoodDeckSF    YearBuilt  YearRemodAdd      SalePrice  \n",
              "count  1460.000000  155.000000  1460.000000   1460.000000    1460.000000  \n",
              "mean   1057.429452  103.741935  1971.267808   1984.865753  180921.195890  \n",
              "std     438.705324  135.543152    30.202904     20.645407   79442.502883  \n",
              "min       0.000000    0.000000  1872.000000   1950.000000   34900.000000  \n",
              "25%     795.750000    0.000000  1954.000000   1967.000000  129975.000000  \n",
              "50%     991.500000    0.000000  1973.000000   1994.000000  163000.000000  \n",
              "75%    1298.250000  182.500000  2000.000000   2004.000000  214000.000000  \n",
              "max    6110.000000  736.000000  2010.000000   2010.000000  755000.000000  "
            ]
          },
          "metadata": {},
          "output_type": "display_data"
        },
        {
          "name": "stdout",
          "output_type": "stream",
          "text": [
            "\n",
            "Statistical summary of inherited_houses.csv:\n"
          ]
        },
        {
          "data": {
            "text/html": [
              "<div>\n",
              "<style scoped>\n",
              "    .dataframe tbody tr th:only-of-type {\n",
              "        vertical-align: middle;\n",
              "    }\n",
              "\n",
              "    .dataframe tbody tr th {\n",
              "        vertical-align: top;\n",
              "    }\n",
              "\n",
              "    .dataframe thead th {\n",
              "        text-align: right;\n",
              "    }\n",
              "</style>\n",
              "<table border=\"1\" class=\"dataframe\">\n",
              "  <thead>\n",
              "    <tr style=\"text-align: right;\">\n",
              "      <th></th>\n",
              "      <th>1stFlrSF</th>\n",
              "      <th>2ndFlrSF</th>\n",
              "      <th>BedroomAbvGr</th>\n",
              "      <th>BsmtFinSF1</th>\n",
              "      <th>BsmtUnfSF</th>\n",
              "      <th>EnclosedPorch</th>\n",
              "      <th>GarageArea</th>\n",
              "      <th>GarageYrBlt</th>\n",
              "      <th>GrLivArea</th>\n",
              "      <th>LotArea</th>\n",
              "      <th>LotFrontage</th>\n",
              "      <th>MasVnrArea</th>\n",
              "      <th>OpenPorchSF</th>\n",
              "      <th>OverallCond</th>\n",
              "      <th>OverallQual</th>\n",
              "      <th>TotalBsmtSF</th>\n",
              "      <th>WoodDeckSF</th>\n",
              "      <th>YearBuilt</th>\n",
              "      <th>YearRemodAdd</th>\n",
              "    </tr>\n",
              "  </thead>\n",
              "  <tbody>\n",
              "    <tr>\n",
              "      <th>count</th>\n",
              "      <td>4.00000</td>\n",
              "      <td>4.000000</td>\n",
              "      <td>4.00</td>\n",
              "      <td>4.000000</td>\n",
              "      <td>4.000000</td>\n",
              "      <td>4.0</td>\n",
              "      <td>4.000000</td>\n",
              "      <td>4.000000</td>\n",
              "      <td>4.000000</td>\n",
              "      <td>4.000000</td>\n",
              "      <td>4.000000</td>\n",
              "      <td>4.000000</td>\n",
              "      <td>4.000000</td>\n",
              "      <td>4.00</td>\n",
              "      <td>4.00000</td>\n",
              "      <td>4.000000</td>\n",
              "      <td>4.00000</td>\n",
              "      <td>4.000000</td>\n",
              "      <td>4.000000</td>\n",
              "    </tr>\n",
              "    <tr>\n",
              "      <th>mean</th>\n",
              "      <td>1019.75000</td>\n",
              "      <td>344.750000</td>\n",
              "      <td>2.75</td>\n",
              "      <td>696.000000</td>\n",
              "      <td>284.250000</td>\n",
              "      <td>0.0</td>\n",
              "      <td>498.500000</td>\n",
              "      <td>1978.500000</td>\n",
              "      <td>1364.500000</td>\n",
              "      <td>12424.250000</td>\n",
              "      <td>78.250000</td>\n",
              "      <td>32.000000</td>\n",
              "      <td>26.500000</td>\n",
              "      <td>5.75</td>\n",
              "      <td>5.50000</td>\n",
              "      <td>1016.250000</td>\n",
              "      <td>276.25000</td>\n",
              "      <td>1978.500000</td>\n",
              "      <td>1978.750000</td>\n",
              "    </tr>\n",
              "    <tr>\n",
              "      <th>std</th>\n",
              "      <td>206.68555</td>\n",
              "      <td>398.193734</td>\n",
              "      <td>0.50</td>\n",
              "      <td>201.141741</td>\n",
              "      <td>112.973079</td>\n",
              "      <td>0.0</td>\n",
              "      <td>172.683719</td>\n",
              "      <td>21.977261</td>\n",
              "      <td>340.623448</td>\n",
              "      <td>1999.967062</td>\n",
              "      <td>3.095696</td>\n",
              "      <td>51.536395</td>\n",
              "      <td>17.691806</td>\n",
              "      <td>0.50</td>\n",
              "      <td>0.57735</td>\n",
              "      <td>209.577949</td>\n",
              "      <td>120.18978</td>\n",
              "      <td>21.977261</td>\n",
              "      <td>22.261701</td>\n",
              "    </tr>\n",
              "    <tr>\n",
              "      <th>min</th>\n",
              "      <td>896.00000</td>\n",
              "      <td>0.000000</td>\n",
              "      <td>2.00</td>\n",
              "      <td>468.000000</td>\n",
              "      <td>137.000000</td>\n",
              "      <td>0.0</td>\n",
              "      <td>312.000000</td>\n",
              "      <td>1958.000000</td>\n",
              "      <td>896.000000</td>\n",
              "      <td>9978.000000</td>\n",
              "      <td>74.000000</td>\n",
              "      <td>0.000000</td>\n",
              "      <td>0.000000</td>\n",
              "      <td>5.00</td>\n",
              "      <td>5.00000</td>\n",
              "      <td>882.000000</td>\n",
              "      <td>140.00000</td>\n",
              "      <td>1958.000000</td>\n",
              "      <td>1958.000000</td>\n",
              "    </tr>\n",
              "    <tr>\n",
              "      <th>25%</th>\n",
              "      <td>918.50000</td>\n",
              "      <td>0.000000</td>\n",
              "      <td>2.75</td>\n",
              "      <td>568.500000</td>\n",
              "      <td>236.750000</td>\n",
              "      <td>0.0</td>\n",
              "      <td>430.500000</td>\n",
              "      <td>1960.250000</td>\n",
              "      <td>1220.750000</td>\n",
              "      <td>11211.000000</td>\n",
              "      <td>77.000000</td>\n",
              "      <td>0.000000</td>\n",
              "      <td>25.500000</td>\n",
              "      <td>5.75</td>\n",
              "      <td>5.00000</td>\n",
              "      <td>915.000000</td>\n",
              "      <td>194.00000</td>\n",
              "      <td>1960.250000</td>\n",
              "      <td>1960.250000</td>\n",
              "    </tr>\n",
              "    <tr>\n",
              "      <th>50%</th>\n",
              "      <td>927.00000</td>\n",
              "      <td>339.000000</td>\n",
              "      <td>3.00</td>\n",
              "      <td>696.500000</td>\n",
              "      <td>297.000000</td>\n",
              "      <td>0.0</td>\n",
              "      <td>476.000000</td>\n",
              "      <td>1979.000000</td>\n",
              "      <td>1466.500000</td>\n",
              "      <td>12726.000000</td>\n",
              "      <td>79.000000</td>\n",
              "      <td>10.000000</td>\n",
              "      <td>35.000000</td>\n",
              "      <td>6.00</td>\n",
              "      <td>5.50000</td>\n",
              "      <td>927.000000</td>\n",
              "      <td>286.00000</td>\n",
              "      <td>1979.000000</td>\n",
              "      <td>1979.500000</td>\n",
              "    </tr>\n",
              "    <tr>\n",
              "      <th>75%</th>\n",
              "      <td>1028.25000</td>\n",
              "      <td>683.750000</td>\n",
              "      <td>3.00</td>\n",
              "      <td>824.000000</td>\n",
              "      <td>344.500000</td>\n",
              "      <td>0.0</td>\n",
              "      <td>544.000000</td>\n",
              "      <td>1997.250000</td>\n",
              "      <td>1610.250000</td>\n",
              "      <td>13939.250000</td>\n",
              "      <td>80.250000</td>\n",
              "      <td>42.000000</td>\n",
              "      <td>36.000000</td>\n",
              "      <td>6.00</td>\n",
              "      <td>6.00000</td>\n",
              "      <td>1028.250000</td>\n",
              "      <td>368.25000</td>\n",
              "      <td>1997.250000</td>\n",
              "      <td>1998.000000</td>\n",
              "    </tr>\n",
              "    <tr>\n",
              "      <th>max</th>\n",
              "      <td>1329.00000</td>\n",
              "      <td>701.000000</td>\n",
              "      <td>3.00</td>\n",
              "      <td>923.000000</td>\n",
              "      <td>406.000000</td>\n",
              "      <td>0.0</td>\n",
              "      <td>730.000000</td>\n",
              "      <td>1998.000000</td>\n",
              "      <td>1629.000000</td>\n",
              "      <td>14267.000000</td>\n",
              "      <td>81.000000</td>\n",
              "      <td>108.000000</td>\n",
              "      <td>36.000000</td>\n",
              "      <td>6.00</td>\n",
              "      <td>6.00000</td>\n",
              "      <td>1329.000000</td>\n",
              "      <td>393.00000</td>\n",
              "      <td>1998.000000</td>\n",
              "      <td>1998.000000</td>\n",
              "    </tr>\n",
              "  </tbody>\n",
              "</table>\n",
              "</div>"
            ],
            "text/plain": [
              "         1stFlrSF    2ndFlrSF  BedroomAbvGr  BsmtFinSF1   BsmtUnfSF  \\\n",
              "count     4.00000    4.000000          4.00    4.000000    4.000000   \n",
              "mean   1019.75000  344.750000          2.75  696.000000  284.250000   \n",
              "std     206.68555  398.193734          0.50  201.141741  112.973079   \n",
              "min     896.00000    0.000000          2.00  468.000000  137.000000   \n",
              "25%     918.50000    0.000000          2.75  568.500000  236.750000   \n",
              "50%     927.00000  339.000000          3.00  696.500000  297.000000   \n",
              "75%    1028.25000  683.750000          3.00  824.000000  344.500000   \n",
              "max    1329.00000  701.000000          3.00  923.000000  406.000000   \n",
              "\n",
              "       EnclosedPorch  GarageArea  GarageYrBlt    GrLivArea       LotArea  \\\n",
              "count            4.0    4.000000     4.000000     4.000000      4.000000   \n",
              "mean             0.0  498.500000  1978.500000  1364.500000  12424.250000   \n",
              "std              0.0  172.683719    21.977261   340.623448   1999.967062   \n",
              "min              0.0  312.000000  1958.000000   896.000000   9978.000000   \n",
              "25%              0.0  430.500000  1960.250000  1220.750000  11211.000000   \n",
              "50%              0.0  476.000000  1979.000000  1466.500000  12726.000000   \n",
              "75%              0.0  544.000000  1997.250000  1610.250000  13939.250000   \n",
              "max              0.0  730.000000  1998.000000  1629.000000  14267.000000   \n",
              "\n",
              "       LotFrontage  MasVnrArea  OpenPorchSF  OverallCond  OverallQual  \\\n",
              "count     4.000000    4.000000     4.000000         4.00      4.00000   \n",
              "mean     78.250000   32.000000    26.500000         5.75      5.50000   \n",
              "std       3.095696   51.536395    17.691806         0.50      0.57735   \n",
              "min      74.000000    0.000000     0.000000         5.00      5.00000   \n",
              "25%      77.000000    0.000000    25.500000         5.75      5.00000   \n",
              "50%      79.000000   10.000000    35.000000         6.00      5.50000   \n",
              "75%      80.250000   42.000000    36.000000         6.00      6.00000   \n",
              "max      81.000000  108.000000    36.000000         6.00      6.00000   \n",
              "\n",
              "       TotalBsmtSF  WoodDeckSF    YearBuilt  YearRemodAdd  \n",
              "count     4.000000     4.00000     4.000000      4.000000  \n",
              "mean   1016.250000   276.25000  1978.500000   1978.750000  \n",
              "std     209.577949   120.18978    21.977261     22.261701  \n",
              "min     882.000000   140.00000  1958.000000   1958.000000  \n",
              "25%     915.000000   194.00000  1960.250000   1960.250000  \n",
              "50%     927.000000   286.00000  1979.000000   1979.500000  \n",
              "75%    1028.250000   368.25000  1997.250000   1998.000000  \n",
              "max    1329.000000   393.00000  1998.000000   1998.000000  "
            ]
          },
          "metadata": {},
          "output_type": "display_data"
        }
      ],
      "source": [
        "# Info and Shape of the datasets\n",
        "print(\"Shape of house_prices_records.csv:\", df_records.shape)\n",
        "print(\"Shape of inherited_houses.csv:\", df_inherited.shape)\n",
        "\n",
        "print(\"\\nInfo for house_prices_records.csv:\")\n",
        "df_records.info()\n",
        "print(\"\\nInfo for inherited_houses.csv:\")\n",
        "df_inherited.info()\n",
        "\n",
        "# Statistical summary of the datasets\n",
        "print(\"\\nStatistical summary of house_prices_records.csv:\")\n",
        "display(df_records.describe())\n",
        "\n",
        "print(\"\\nStatistical summary of inherited_houses.csv:\")\n",
        "display(df_inherited.describe())\n",
        "\n"
      ]
    },
    {
      "cell_type": "markdown",
      "metadata": {},
      "source": [
        "We can see that the target variable `SalePrice` is numerical, so no transformation is required before modeling.  \n",
        "To confirm the data type of `SalePrice`, you can run the following code:"
      ]
    },
    {
      "cell_type": "code",
      "execution_count": 10,
      "metadata": {},
      "outputs": [
        {
          "data": {
            "text/plain": [
              "dtype('int64')"
            ]
          },
          "execution_count": 10,
          "metadata": {},
          "output_type": "execute_result"
        }
      ],
      "source": [
        "df_records['SalePrice'].dtype\n"
      ]
    },
    {
      "cell_type": "markdown",
      "metadata": {},
      "source": [
        "Here we compare `house_prices_records.csv` and `inherited_houses.csv` to identify any key differences between the dataset used to train the model and the dataset used to make predictions. This ensures that the input features available for prediction are consistent with those used during model training.\n"
      ]
    },
    {
      "cell_type": "code",
      "execution_count": 11,
      "metadata": {},
      "outputs": [
        {
          "name": "stdout",
          "output_type": "stream",
          "text": [
            "Header mismatch detected.\n",
            "\n",
            "Columns present in house_prices_records.csv but missing in inherited_houses.csv:\n",
            "- SalePrice\n"
          ]
        }
      ],
      "source": [
        "records_cols = set(df_records.columns)\n",
        "inherited_cols = set(df_inherited.columns)\n",
        "\n",
        "if records_cols == inherited_cols:\n",
        "    print(\"The inherited houses dataset has the same headers as the training dataset.\")\n",
        "else:\n",
        "    print(\"Header mismatch detected.\")\n",
        "        \n",
        "    extra_inherited = inherited_cols - records_cols\n",
        "    if extra_inherited:\n",
        "        print(\"\\nColumns present in inherited_houses.csv but missing in house_prices_records.csv:\")\n",
        "        for col in sorted(extra_inherited):\n",
        "            print(\"-\", col)\n",
        "    \n",
        "    missing_inherited = records_cols - inherited_cols\n",
        "    if missing_inherited:\n",
        "        print(\"\\nColumns present in house_prices_records.csv but missing in inherited_houses.csv:\")\n",
        "        for col in sorted(missing_inherited):\n",
        "            print(\"-\", col)\n"
      ]
    },
    {
      "cell_type": "markdown",
      "metadata": {},
      "source": [
        "Only the `SalePrice` column is missing in `inherited_houses.csv`, which is expected since the objective is to predict the price based on the data provided in `house_prices_records.csv`.\n"
      ]
    },
    {
      "cell_type": "markdown",
      "metadata": {},
      "source": [
        "Step 4 - Check for missing values"
      ]
    },
    {
      "cell_type": "code",
      "execution_count": 12,
      "metadata": {},
      "outputs": [
        {
          "name": "stdout",
          "output_type": "stream",
          "text": [
            "Missing values in house_prices_records.csv:\n"
          ]
        },
        {
          "data": {
            "text/plain": [
              "2ndFlrSF           86\n",
              "BedroomAbvGr       99\n",
              "BsmtExposure       38\n",
              "BsmtFinType1      145\n",
              "EnclosedPorch    1324\n",
              "GarageFinish      235\n",
              "GarageYrBlt        81\n",
              "LotFrontage       259\n",
              "MasVnrArea          8\n",
              "WoodDeckSF       1305\n",
              "dtype: int64"
            ]
          },
          "metadata": {},
          "output_type": "display_data"
        },
        {
          "name": "stdout",
          "output_type": "stream",
          "text": [
            "\n",
            "Missing values in inherited_houses.csv:\n"
          ]
        },
        {
          "data": {
            "text/plain": [
              "Series([], dtype: int64)"
            ]
          },
          "metadata": {},
          "output_type": "display_data"
        }
      ],
      "source": [
        "missing_records = df_records.isnull().sum()\n",
        "missing_records = missing_records[missing_records > 0]\n",
        "\n",
        "print(\"Missing values in house_prices_records.csv:\")\n",
        "display(missing_records)\n",
        "\n",
        "missing_inherited = df_inherited.isnull().sum()\n",
        "missing_inherited = missing_inherited[missing_inherited > 0]\n",
        "\n",
        "print(\"\\nMissing values in inherited_houses.csv:\")\n",
        "display(missing_inherited)\n"
      ]
    },
    {
      "cell_type": "markdown",
      "metadata": {},
      "source": [
        "Step 5 – Save Working Copies"
      ]
    },
    {
      "cell_type": "code",
      "execution_count": 14,
      "metadata": {},
      "outputs": [
        {
          "name": "stdout",
          "output_type": "stream",
          "text": [
            "Current working directory: c:\\Users\\PabloGalindo\\Coding-Institute\\PMS5\\heritage-housing-ml-pgz\n",
            "Output directory created or already exists: outputs\\datasets\\collection\n",
            "Working copies saved to:\n",
            "- outputs\\datasets\\collection\\house_prices_records.csv\n",
            "- outputs\\datasets\\collection\\inherited_houses.csv\n",
            "Data collection completed at: 2025-03-23 20:21:29\n",
            "Log directory is ready: outputs\\logs\n",
            "Timestamp logged to: outputs\\logs\\data_collection.log\n"
          ]
        }
      ],
      "source": [
        "import os\n",
        "from datetime import datetime\n",
        "print(\"Current working directory:\", os.getcwd())\n",
        "\n",
        "output_dir = os.path.join(\"outputs\", \"datasets\", \"collection\")\n",
        "try:\n",
        "    os.makedirs(output_dir, exist_ok=True)\n",
        "    print(f\"Output directory created or already exists: {output_dir}\")\n",
        "except Exception as e:\n",
        "    print(\"An error occurred while creating the output directory:\")\n",
        "    print(e)\n",
        "\n",
        "output_records_path = os.path.join(output_dir, 'house_prices_records.csv')\n",
        "output_inherited_path = os.path.join(output_dir, 'inherited_houses.csv')\n",
        "\n",
        "try:\n",
        "    df_records.to_csv(output_records_path, index=False)\n",
        "    df_inherited.to_csv(output_inherited_path, index=False)\n",
        "\n",
        "    print(\"Working copies saved to:\")\n",
        "    print(\"-\", output_records_path)\n",
        "    print(\"-\", output_inherited_path)\n",
        "\n",
        "except Exception as e:\n",
        "    print(\"An error occurred while saving the datasets:\")\n",
        "    print(e)\n",
        "    \n",
        "\n",
        "# Log timestamp after saving files to output directory\n",
        "timestamp = datetime.now().strftime('%Y-%m-%d %H:%M:%S')\n",
        "print(f\"Data collection completed at: {timestamp}\")\n",
        "\n",
        "log_dir = os.path.join(\"outputs\", \"logs\")\n",
        "try:\n",
        "    os.makedirs(log_dir, exist_ok=True)\n",
        "    print(f\"Log directory is ready: {log_dir}\")\n",
        "except Exception as e:\n",
        "    print(\"An error occurred while creating the log directory:\")\n",
        "    print(e)\n",
        "\n",
        "log_path = os.path.join(log_dir, 'data_collection.log')\n",
        "try:\n",
        "    with open(log_path, 'a') as log_file:\n",
        "        log_file.write(f\"Data collection completed at: {timestamp}\\n\")\n",
        "    print(f\"Timestamp logged to: {log_path}\")\n",
        "except Exception as e:\n",
        "    print(\"Failed to write to log file:\")\n",
        "    print(e)\n",
        "\n",
        "\n"
      ]
    },
    {
      "cell_type": "markdown",
      "metadata": {},
      "source": [
        "---"
      ]
    },
    {
      "cell_type": "markdown",
      "metadata": {},
      "source": [
        "## Conclusions\n",
        "\n",
        "- The dataset was successfully retrieved from Kaggle and includes three files: a metadata file, a historical house sales dataset, and a dataset for the inherited houses.\n",
        "- Both CSV files (`house_prices_records.csv` and `inherited_houses.csv`) were loaded and inspected without issues.\n",
        "- The datasets are well-structured, and the `SalePrice` column, which is the prediction target, is present in the main data set. \n",
        "- The `SalePrice` column is numerical and does not require any transformation for modeling.\n",
        "- No critical structural issues were found, although we still need to assess data quality in future steps.\n"
      ]
    },
    {
      "cell_type": "markdown",
      "metadata": {},
      "source": [
        "---"
      ]
    }
  ],
  "metadata": {
    "accelerator": "GPU",
    "colab": {
      "name": "Data Practitioner Jupyter Notebook.ipynb",
      "provenance": [],
      "toc_visible": true
    },
    "kernelspec": {
      "display_name": "venv",
      "language": "python",
      "name": "python3"
    },
    "language_info": {
      "codemirror_mode": {
        "name": "ipython",
        "version": 3
      },
      "file_extension": ".py",
      "mimetype": "text/x-python",
      "name": "python",
      "nbconvert_exporter": "python",
      "pygments_lexer": "ipython3",
      "version": "3.12.4"
    },
    "orig_nbformat": 2
  },
  "nbformat": 4,
  "nbformat_minor": 2
}
